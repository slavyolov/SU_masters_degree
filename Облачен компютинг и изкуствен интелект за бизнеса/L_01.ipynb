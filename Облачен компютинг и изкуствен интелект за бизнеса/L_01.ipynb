{
  "nbformat": 4,
  "nbformat_minor": 0,
  "metadata": {
    "colab": {
      "provenance": [],
      "collapsed_sections": [],
      "toc_visible": true,
      "authorship_tag": "ABX9TyNWQN5EOvXD3N0wU0+/wzbE",
      "include_colab_link": true
    },
    "kernelspec": {
      "name": "python3",
      "display_name": "Python 3"
    },
    "language_info": {
      "name": "python"
    }
  },
  "cells": [
    {
      "cell_type": "markdown",
      "metadata": {
        "id": "view-in-github",
        "colab_type": "text"
      },
      "source": [
        "<a href=\"https://colab.research.google.com/github/slavyolov/SU_masters_degree/blob/master/%D0%9E%D0%B1%D0%BB%D0%B0%D1%87%D0%B5%D0%BD%20%D0%BA%D0%BE%D0%BC%D0%BF%D1%8E%D1%82%D0%B8%D0%BD%D0%B3%20%D0%B8%20%D0%B8%D0%B7%D0%BA%D1%83%D1%81%D1%82%D0%B2%D0%B5%D0%BD%20%D0%B8%D0%BD%D1%82%D0%B5%D0%BB%D0%B5%D0%BA%D1%82%20%D0%B7%D0%B0%20%D0%B1%D0%B8%D0%B7%D0%BD%D0%B5%D1%81%D0%B0/L_01.ipynb\" target=\"_parent\"><img src=\"https://colab.research.google.com/assets/colab-badge.svg\" alt=\"Open In Colab\"/></a>"
      ]
    },
    {
      "cell_type": "markdown",
      "source": [
        "- стоп фак. \n",
        "  - облачен компютинг \n",
        "  - потреб име и парола \n",
        "  - самозаписване в кура\n",
        "  - syolov@feba-uni.sofia.bg \n",
        "    - офис365 акаунти\n",
        "    - активиране на акаубти за теамс\n",
        "    - изчислителен облак на майкрософт (акаунт с 100 долара)\n",
        "      - профил във Азуре с акаунт от syolov@feba-uni.sofia.bg\n",
        "      - линк в Азуре - студенски бенефит (аутх. - със смс през телефона + свободни сървиси)\n",
        "\n",
        "  - Това да се направи до 11.10.2022г\n",
        "  - ! лекциите да се гледат преди срещите на живо. Тези срещи да са като Q/A\n",
        "  - Изпит : тест върху целия учебен материал (ще е подобен на тестовете след всяка лекция)\n",
        "  - https://elearn.uni-sofia.bg/course/index.php?categoryid=12 \n",
        "  - https://elearn.uni-sofia.bg/course/search.php?areaids=core_course-course&q=%D0%9E%D0%B1%D0%BB%D0%B0%D1%87%D0%B5%D0%BD\n",
        "\n",
        "\n",
        "  За 11 преглеждаме видеата и намисляме теми за дискусии\n",
        "\n",
        "  - КИ : АИ като сървис в облака + изпита\n",
        "\n",
        "  - Даимлер автономни автомобили - напред са - българин\n",
        "  - Столична община - апп за градски транспорт от ман ливади (ел автобус)\n",
        "   - под 20 мин маршрут\n",
        "   - да се регистрира профила с мейл, който ползваме и четем - в курса\n",
        "\n",
        "   nnetoff@feb.uni-sofia.bg"
      ],
      "metadata": {
        "id": "w8Ni521ylP92"
      }
    }
  ]
}