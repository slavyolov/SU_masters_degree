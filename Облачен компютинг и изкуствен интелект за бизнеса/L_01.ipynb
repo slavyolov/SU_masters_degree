{
  "nbformat": 4,
  "nbformat_minor": 0,
  "metadata": {
    "colab": {
      "provenance": [],
      "collapsed_sections": [],
      "mount_file_id": "1GwrSfLHvcn1SD8jL4nQSMMexiOh8lh-r",
      "authorship_tag": "ABX9TyPbEeE1upVm0kiSt4xl5bok",
      "include_colab_link": true
    },
    "kernelspec": {
      "name": "python3",
      "display_name": "Python 3"
    },
    "language_info": {
      "name": "python"
    }
  },
  "cells": [
    {
      "cell_type": "markdown",
      "metadata": {
        "id": "view-in-github",
        "colab_type": "text"
      },
      "source": [
        "<a href=\"https://colab.research.google.com/github/slavyolov/SU_masters_degree/blob/master/%D0%9E%D0%B1%D0%BB%D0%B0%D1%87%D0%B5%D0%BD%20%D0%BA%D0%BE%D0%BC%D0%BF%D1%8E%D1%82%D0%B8%D0%BD%D0%B3%20%D0%B8%20%D0%B8%D0%B7%D0%BA%D1%83%D1%81%D1%82%D0%B2%D0%B5%D0%BD%20%D0%B8%D0%BD%D1%82%D0%B5%D0%BB%D0%B5%D0%BA%D1%82%20%D0%B7%D0%B0%20%D0%B1%D0%B8%D0%B7%D0%BD%D0%B5%D1%81%D0%B0/L_01.ipynb\" target=\"_parent\"><img src=\"https://colab.research.google.com/assets/colab-badge.svg\" alt=\"Open In Colab\"/></a>"
      ]
    },
    {
      "cell_type": "markdown",
      "source": [
        "https://elearn.uni-sofia.bg/course/view.php?id=78811#section-2\n",
        "\n",
        "***Kordon's definitions :***\n",
        "- **Data Science** is the Science and Art on how to convert data into INSIGHT and VALUE.\n",
        "- **AI** is the ability of a computer program to function like a human brain \n",
        "- **Machine Learning** is a pattern discovery engine from data\n",
        "- **Deep Learning** is Machine Learning that learns how to learn\n",
        "- **Big data** is everything that cannot be saved on your laptop is big data\n",
        "- **Internet of Things** collects data from everything that communicates\n",
        "- **Advanced Analytics** is the Bag of Tricks to generate insight and make predictions from data\n",
        "- **Data mining** - using all possible ways to extract something relevant from available data \n",
        "- **BI** - turning available business data into smart decisions.\n",
        "\n",
        "\n",
        "\n",
        "\n"
      ],
      "metadata": {
        "id": "JzZXbdfVZ3DR"
      }
    },
    {
      "cell_type": "code",
      "source": [],
      "metadata": {
        "id": "t0-h2yA4ajhe"
      },
      "execution_count": null,
      "outputs": []
    },
    {
      "cell_type": "code",
      "execution_count": null,
      "metadata": {
        "id": "MsRTDG-5Y39u"
      },
      "outputs": [],
      "source": []
    }
  ]
}