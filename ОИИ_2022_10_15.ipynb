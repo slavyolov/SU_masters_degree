{
  "nbformat": 4,
  "nbformat_minor": 0,
  "metadata": {
    "colab": {
      "provenance": [],
      "collapsed_sections": [],
      "toc_visible": true,
      "authorship_tag": "ABX9TyOqlnRAAv7VwZfisHcp2Q8j",
      "include_colab_link": true
    },
    "kernelspec": {
      "name": "python3",
      "display_name": "Python 3"
    },
    "language_info": {
      "name": "python"
    }
  },
  "cells": [
    {
      "cell_type": "markdown",
      "metadata": {
        "id": "view-in-github",
        "colab_type": "text"
      },
      "source": [
        "<a href=\"https://colab.research.google.com/github/slavyolov/SU_masters_degree/blob/master/%D0%9E%D0%98%D0%98_2022_10_15.ipynb\" target=\"_parent\"><img src=\"https://colab.research.google.com/assets/colab-badge.svg\" alt=\"Open In Colab\"/></a>"
      ]
    },
    {
      "cell_type": "markdown",
      "source": [
        "# **Resources :**\n",
        "\n",
        "- presentations : https://docs.google.com/presentation/d/1SS5TGMHVAduCcJK4oUP7yfx-ZLgt6yeS/edit#slide=id.p1 \n",
        "- https://elearn.uni-sofia.bg/mod/forum/discuss.php?d=67642#p125922"
      ],
      "metadata": {
        "id": "39gF38MPGUdo"
      }
    },
    {
      "cell_type": "markdown",
      "source": [
        "# **2022-10-15**\n",
        "\n",
        "# **Оценки :**\n",
        "  - задачи в занятието\n",
        "  - есе/научна разработка - тема (има технически изисквания)\n",
        "\n",
        "# **White hat (facts) :**\n",
        "  - https://docs.google.com/document/d/1jQ_KX0pY5TXYFoTya-HCOXGYG7TgB36Bjdm0p7jECsI/edit#\n",
        "\n",
        "\n",
        "# **Gather.town** \n",
        "  - https://www.gather.town/\n",
        "  - онлайн комуникация, ако сме онлайн\n",
        "  - събота тук, в неделя там\n",
        "\n",
        "# **brainstorming, positive ideas, summary (10 rows), what is AI**\n",
        "- Ani, Agi, Asi\n",
        "\n",
        "# **Лекция/Презентация**\n",
        "\n",
        "- Karl Popper\n",
        "- Induction/deduction\n",
        "  - Аналитичен модел - винаги е валиден, но никога не може да се приложи практично\n",
        "  - Симулационен модел - работи в конкретни случай (ок за поточна линия за течен шоколад, но не е ок за поточна линия за паста за зъби)\n",
        "- Universality/Specialization\n",
        "- Ветрило на възможните **реализации**\n",
        "\n",
        "# **фундамент при системите за AI**\n",
        "- Теория на системите\n",
        "- Кибернетика\n",
        "\n",
        "# **Imitation/Deus Ex Machina**\n",
        "\n",
        "- ⏰ minimize entropy - минимизиране на неопределеността\n",
        "- Charles Babbage (Чарлз Бабидж) - първата сметачна машина\n",
        "- Ada Lovelace (Ада Лъвлейс) - първия програмист\n",
        "\n",
        "# **General Systems Theory**\n",
        "- cybernetics (Robert Wiener) - наука за управление (системи с обратна връзка)\n",
        "\n",
        "- https://ncase.me/loopy/\n",
        "- https://app.gather.town/invite?token=tREHcFUITW6_3A-KMBh3\n",
        "- bit.ly/gather_town1"
      ],
      "metadata": {
        "id": "Dv8YKjniWxWN"
      }
    },
    {
      "cell_type": "markdown",
      "source": [
        "# **2022-10-16**\n",
        "\n",
        "- видео записите от лекциите по дисциплината: https://www.youtube.com/playlist?list=PLX9ryRl9v7BCuW9Vv_oJWChVJtRD9HaBM \n",
        "- Igor Nikolic - Complex adaptive systems https://www.youtube.com/watch?v=jS0zj_dYeBE\n",
        "\n",
        "- решение в по-малко от един цикъл на изпълнение (управление в реално време). Например тримесечие (счетоводство), ако системата изработва решение за по-малко време от тримесечие и може да бъде въведено, тогава системата/управлението работи в реално време\n",
        "\n",
        "- redundency of information\n",
        "- Clod Shanon - logarithm equal 2 "
      ],
      "metadata": {
        "id": "cVu1k1OjWa-X"
      }
    },
    {
      "cell_type": "markdown",
      "source": [
        "# **Entropy (information systems)**"
      ],
      "metadata": {
        "id": "2iJsMhR7C_W_"
      }
    },
    {
      "cell_type": "code",
      "source": [
        "# Calculate the entropy of a distribution for given probability values.\n",
        "from scipy.stats import entropy\n",
        "\n",
        "'''\n",
        "    If only probabilities `pk` are given, the entropy is calculated as\n",
        "    ``S = -sum(pk * log(pk), axis=axis)``.\n",
        "'''\n",
        "\n",
        "entropy(pk=[0.25, 0.125, 0.125, 0, 0.5], base=2)"
      ],
      "metadata": {
        "colab": {
          "base_uri": "https://localhost:8080/"
        },
        "id": "EAvJrH_2q9cA",
        "outputId": "7820166c-cadf-48b1-cdbf-196d0f767650"
      },
      "execution_count": 3,
      "outputs": [
        {
          "output_type": "execute_result",
          "data": {
            "text/plain": [
              "1.75"
            ]
          },
          "metadata": {},
          "execution_count": 3
        }
      ]
    },
    {
      "cell_type": "markdown",
      "source": [
        "- novelty ( 2 events before and after event ). Ще се получи разлика от 2те различни нива на етропията\n"
      ],
      "metadata": {
        "id": "Mx7L1sF1vZvR"
      }
    },
    {
      "cell_type": "markdown",
      "source": [
        "### **Задачи за оценка на наученото**"
      ],
      "metadata": {
        "id": "1U4FjqC0CEYr"
      }
    },
    {
      "cell_type": "code",
      "source": [
        "# задача1\n",
        "h0 = entropy(pk=[0.25, 0.125, 0.125, 0, 0.5], base=2)\n",
        "h1 = entropy(pk=[0, 0.25, 0.5, 0, 0.25], base=2)\n",
        "\n",
        "print(\"h0 ==\", h0)\n",
        "print(\"h1 ==\", h1)\n",
        "\n",
        "I = h0 - h1\n",
        "print(\"задача 1 отг : \", I) # неопределеноста е намалена с 0.25 бита\n",
        "print(100 * \"=\")\n",
        "# задача 2\n",
        "h0 = entropy(pk=[0.5, 0.5], base=2) # it will be either boy or girl\n",
        "h1 = entropy(pk=[1, 0], base=2)     # msg_1 = \"My wife gave birth to a girl\"\n",
        "\n",
        "print(\"h0 ==\", h0)\n",
        "print(\"h1 ==\", h1)\n",
        "\n",
        "I = h0 - h1\n",
        "print(\"задача 2 отг : \", I) # неопределеноста е намалена с 1 бит след получаване на новото съобщение\n",
        "print(100 * \"=\")\n",
        "\n",
        "# задача 3\n",
        "h0 = entropy(pk=[0.2, 0.2, 0.2, 0.2, 0.2], base=2)  # the chance giving right answer without any knowledge is 20%\n",
        "h1 = entropy(pk=[0.5, 0.5, 0, 0, 0], base=2)        # msg_2 = \"Of the 5 possible answers to question 20 of the test, I know for sure that the answer is either A or B\"\n",
        "print(\"h0 ==\", h0)\n",
        "print(\"h1 ==\", h1)\n",
        "\n",
        "I = h0 - h1\n",
        "print(\"задача 3 отг : \", I) # неопределеноста е намалена с 1.32 бита след получаване на новото съобщение\n",
        "print(100 * \"=\")"
      ],
      "metadata": {
        "colab": {
          "base_uri": "https://localhost:8080/"
        },
        "id": "SwLzQA88yogt",
        "outputId": "9fe49834-62d7-4cf9-befb-c5b5f405e0b1"
      },
      "execution_count": 52,
      "outputs": [
        {
          "output_type": "stream",
          "name": "stdout",
          "text": [
            "h0 == 1.75\n",
            "h1 == 1.5\n",
            "задача 1 отг :  0.25\n",
            "====================================================================================================\n",
            "h0 == 1.0\n",
            "h1 == 0.0\n",
            "задача 2 отг :  1.0\n",
            "====================================================================================================\n",
            "h0 == 2.3219280948873626\n",
            "h1 == 1.0\n",
            "задача 3 отг :  1.3219280948873626\n",
            "====================================================================================================\n"
          ]
        }
      ]
    },
    {
      "cell_type": "code",
      "source": [],
      "metadata": {
        "id": "bQk80ruvEACd"
      },
      "execution_count": null,
      "outputs": []
    },
    {
      "cell_type": "code",
      "source": [],
      "metadata": {
        "id": "tCJH0uFvEABT"
      },
      "execution_count": null,
      "outputs": []
    },
    {
      "cell_type": "code",
      "source": [],
      "metadata": {
        "id": "6barm9RvD_6L"
      },
      "execution_count": null,
      "outputs": []
    },
    {
      "cell_type": "code",
      "source": [],
      "metadata": {
        "id": "YnK1VRWAD_rU"
      },
      "execution_count": null,
      "outputs": []
    },
    {
      "cell_type": "code",
      "source": [
        "# https://www.intel.com/content/dam/www/program/education/us/en/documents/the-journery-inside/digital/tji-digital-info-handout4.pdf\n",
        "# https://towardsdatascience.com/the-intuition-behind-shannons-entropy-e74820fe9800\n",
        "# http://bearcave.com/misl/misl_tech/wavelets/compression/shannon.html"
      ],
      "metadata": {
        "colab": {
          "base_uri": "https://localhost:8080/"
        },
        "id": "PkoE-28MzfnL",
        "outputId": "39011101-e363-4919-effe-eae259e11610"
      },
      "execution_count": 19,
      "outputs": [
        {
          "output_type": "execute_result",
          "data": {
            "text/plain": [
              "224"
            ]
          },
          "metadata": {},
          "execution_count": 19
        }
      ]
    },
    {
      "cell_type": "code",
      "source": [],
      "metadata": {
        "colab": {
          "base_uri": "https://localhost:8080/"
        },
        "id": "27MXjfMV2H0s",
        "outputId": "e339ace3-5400-4997-f4a3-9f843a19235f"
      },
      "execution_count": 23,
      "outputs": [
        {
          "output_type": "execute_result",
          "data": {
            "text/plain": [
              "3.839337048588719"
            ]
          },
          "metadata": {},
          "execution_count": 23
        }
      ]
    },
    {
      "cell_type": "code",
      "source": [
        "len(\"The war is over\") * 8"
      ],
      "metadata": {
        "colab": {
          "base_uri": "https://localhost:8080/"
        },
        "id": "vzTjLe4g3fHt",
        "outputId": "dbe9d60c-daa2-4ab3-e9c3-c7c9e90fca0d"
      },
      "execution_count": 28,
      "outputs": [
        {
          "output_type": "execute_result",
          "data": {
            "text/plain": [
              "120"
            ]
          },
          "metadata": {},
          "execution_count": 28
        }
      ]
    }
  ]
}