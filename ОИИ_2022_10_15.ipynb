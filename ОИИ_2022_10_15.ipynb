{
  "nbformat": 4,
  "nbformat_minor": 0,
  "metadata": {
    "colab": {
      "provenance": [],
      "collapsed_sections": [],
      "authorship_tag": "ABX9TyM1ALE1dqKpnV5LINQkUapm",
      "include_colab_link": true
    },
    "kernelspec": {
      "name": "python3",
      "display_name": "Python 3"
    },
    "language_info": {
      "name": "python"
    }
  },
  "cells": [
    {
      "cell_type": "markdown",
      "metadata": {
        "id": "view-in-github",
        "colab_type": "text"
      },
      "source": [
        "<a href=\"https://colab.research.google.com/github/slavyolov/SU_masters_degree/blob/master/%D0%9E%D0%98%D0%98_2022_10_15.ipynb\" target=\"_parent\"><img src=\"https://colab.research.google.com/assets/colab-badge.svg\" alt=\"Open In Colab\"/></a>"
      ]
    },
    {
      "cell_type": "markdown",
      "source": [
        "# **Оценки :**\n",
        "  - задачи в занятието\n",
        "  - есе/научна разработка - тема (има технически изисквания)\n",
        "\n",
        "# **White hat (facts) :**\n",
        "  - https://docs.google.com/document/d/1jQ_KX0pY5TXYFoTya-HCOXGYG7TgB36Bjdm0p7jECsI/edit#\n",
        "\n",
        "\n",
        "# **Gather.town** \n",
        "  - https://www.gather.town/\n",
        "  - онлайн комуникация, ако сме онлайн\n",
        "  - събота тук, в неделя там\n",
        "\n",
        "# **brainstorming, positive ideas, summary (10 rows), what is AI**\n",
        "- Ani, Agi, Asi\n",
        "\n",
        "# **Лекция/Презентация**\n",
        "\n",
        "- Karl Popper\n",
        "- Induction/deduction\n",
        "  - Аналитичен модел - винаги е валиден, но никога не може да се приложи практично\n",
        "  - Симулационен модел - работи в конкретни случай (ок за поточна линия за течен шоколад, но не е ок за поточна линия за паста за зъби)\n",
        "- Universality/Specialization\n",
        "- Ветрило на възможните **реализации**\n",
        "\n",
        "# **фундамент при системите за AI**\n",
        "- Теория на системите\n",
        "- Кибернетика\n",
        "\n",
        "# **Imitation/Deus Ex Machina**\n",
        "\n",
        "- ⏰ minimize entropy - минимизиране на неопределеността\n",
        "- Charles Babbage (Чарлз Бабидж) - първата сметачна машина\n",
        "- Ada Lovelace (Ада Лъвлейс) - първия програмист\n",
        "\n",
        "# **General Systems Theory**\n",
        "- cybernetics (Robert Wiener) - наука за управление (системи с обратна връзка)\n",
        "\n",
        "- https://ncase.me/loopy/"
      ],
      "metadata": {
        "id": "Dv8YKjniWxWN"
      }
    },
    {
      "cell_type": "markdown",
      "source": [],
      "metadata": {
        "id": "YBKEwsc85kuS"
      }
    },
    {
      "cell_type": "code",
      "execution_count": null,
      "metadata": {
        "id": "Kkr1ip0mWSgS"
      },
      "outputs": [],
      "source": []
    },
    {
      "cell_type": "markdown",
      "source": [],
      "metadata": {
        "id": "cVu1k1OjWa-X"
      }
    },
    {
      "cell_type": "markdown",
      "source": [],
      "metadata": {
        "id": "eeEJWOCIWaHO"
      }
    }
  ]
}