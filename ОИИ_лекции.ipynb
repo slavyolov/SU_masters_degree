{
  "nbformat": 4,
  "nbformat_minor": 0,
  "metadata": {
    "colab": {
      "provenance": [],
      "collapsed_sections": [
        "1U4FjqC0CEYr"
      ],
      "toc_visible": true,
      "authorship_tag": "ABX9TyPsz392Uiaq3vpaqYdSpFEM",
      "include_colab_link": true
    },
    "kernelspec": {
      "name": "python3",
      "display_name": "Python 3"
    },
    "language_info": {
      "name": "python"
    }
  },
  "cells": [
    {
      "cell_type": "markdown",
      "metadata": {
        "id": "view-in-github",
        "colab_type": "text"
      },
      "source": [
        "<a href=\"https://colab.research.google.com/github/slavyolov/SU_masters_degree/blob/master/%D0%9E%D0%98%D0%98_%D0%BB%D0%B5%D0%BA%D1%86%D0%B8%D0%B8.ipynb\" target=\"_parent\"><img src=\"https://colab.research.google.com/assets/colab-badge.svg\" alt=\"Open In Colab\"/></a>"
      ]
    },
    {
      "cell_type": "markdown",
      "source": [
        "# **Resources :**\n",
        "\n",
        "- course (e-learn) : https://elearn.uni-sofia.bg/mod/forum/discuss.php?d=67642#p125922\n",
        "- presentation : https://docs.google.com/presentation/d/1SS5TGMHVAduCcJK4oUP7yfx-ZLgt6yeS/edit#slide=id.p1 \n",
        "- видео лекции от курса : https://www.youtube.com/playlist?list=PLX9ryRl9v7BCuW9Vv_oJWChVJtRD9HaBM\n",
        "- Free reasearch papers : https://sci-hub.se/database \n",
        "- Books/Articles : https://z-lib.org/\n",
        "- Books/Articles #2 : https://www.elsevier.com/connect/11-steps-to-structuring-a-science-paper-editors-will-take-seriously \n",
        "- Books/Articles #3 : https://www.researchgate.net/\n",
        "\n",
        "# **Sources of Wisdom :**\n",
        "- http://www.youtube.com/user/JAVIERLIVAS     - Javier Livas\n",
        "- http://www.youtube.com/watch?v=jS0zj_dYeBE  -  Igor Nikolic - Complex adaptive systems\n",
        "- http://www.youtube.com/watch?v=VSCjWT_nI_Q  - General Systems theory\n",
        "- http://www.youtube.com/watch?v=JwqArbHinCg – Control system\n",
        "- http://www.gwu.edu/~asc/asc-cyber.html  - What is Cybernetics \n",
        "- http://pespmc1.vub.ac.be/ASC/CYBSYSTH.html  - Cybernetics and Systems Theory \n",
        "- http://pespmc1.vub.ac.be/ASC/Default.html  - Principia CyberneticaWeb \n",
        "- http://pespmc1.vub.ac.be/books/IntroCyb.pdf  - R. Ashby, Introduction to Cybernetics\n",
        "http://www.art-sciencefactory.com/complexity-map_feb09_april.html  - Interactive map of complexity sciences\n",
        "- https://academic.oup.com/mind/article/LIX/236/433/986238?login=false - COMPUTING MACHINERY AND INTELLIGENCE (Alan Turing)\n",
        "- https://www.datasciencesociety.net/juniors-top-10-talks-from-the-ai-congress-of-wearedevelopers-in-vienna/ - Junior’s Top 10 Talks from the AI Congress of WeAreDevelopers in Vienna\n",
        "\n",
        "Книги:\n",
        "\n",
        "- Върнър Виндж - Краят на Дъгата  - https://chitanka.info/book/8184-krajat-na-dygata\n",
        "- Марвин Мински и Хари Харисън - Опцията на Тюринг (2 части) - https://chitanka.info/person/marvin-minsky\n",
        "- Чарлз Строз - Accelerando (на английски) - https://www.antipope.org/charlie/blog-static/fiction/accelerando/accelerando-intro.html\n",
        "- Артър Кларк - Профили на Бъдещето - https://chitanka.info/book/2154-profili-na-bydeshteto\n",
        "- Мичио Каку - Физика на Невъзможното - https://chitanka.info/book/3434-fizika-na-nevyzmozhnoto\n",
        " \n",
        "**Филми:**\n",
        "\n",
        "- AI\n",
        "- Transcendance\n",
        "- Chappie\n",
        "- Her\n",
        "- War games\n",
        "- 2001 A space Odyssey\n",
        "- Ex Machina\n",
        "- Tron\n",
        "- Interstellar\n",
        "- Blade Runner 2049\n",
        "- Ghost in a Shell\n",
        " \n",
        "\n",
        "**Youtube канали:**\n",
        "\n",
        "- 3Blue1Brown\n",
        "- AI and Games\n",
        "- Alan Zucconi\n",
        "- Ars Technica\n",
        "- blackpenredpen\n",
        "- Cabrera Research Lab\n",
        "- Code Bullet\n",
        "- Code Monkey\n",
        "- Complexity Explorer\n",
        "- Computer Science\n",
        "- Data Science Courses\n",
        "- Domain of Science\n",
        "- Dr Peyam\n",
        "- Dr. Shahin Rostami\n",
        "- Emergent Garden\n",
        "- Finematics\n",
        "- freeCodeCamp.org\n",
        "- Futurology — An Optimistic Future\n",
        "- Jason Silva: Shots of Awe\n",
        "- Julia Galef\n",
        "- just calculus\n",
        "- Kaloyan Haralampiev\n",
        "- Kurzgesagt – In a Nutshell\n",
        "- Kyle Hill\n",
        "- Mathemaniac\n",
        "- Mathologer\n",
        "- Matt_Parker_2\n",
        "- Michael Penn\n",
        "- minutephysics\n",
        "- Mirror Neuron\n",
        "- Missing Semester\n",
        "- N N Taleb's Probability Moocs\n",
        "- Nigel John Stanford\n",
        "- Normalized Nerd\n",
        "- Numberphile\n",
        "- Oats Studios\n",
        "- OpenLearn from The Open University\n",
        "- Pezzza's Work\n",
        "- Pierre Neis\n",
        "- Primer\n",
        "- PythonBobby\n",
        "- Robots Without Borders\n",
        "- Science, Technology & the Future\n",
        "- Sebastian Lague\n",
        "- Seeker\n",
        "- sentdex\n",
        "- Singularity University Summits\n",
        "- Sixty Symbols\n",
        "- SmarterEveryDay\n",
        "- Stand-up Maths\n",
        "- StatQuest with Josh Starmer\n",
        "- Steve Brunton\n",
        "- Steve Mould\n",
        "- Systems Innovation\n",
        "- TED\n",
        "- TED-Ed\n",
        "- The Andrew Schulz\n",
        "- The Art of Improvement\n",
        "- The Bibites: Digital Life\n",
        "- The Coding Train\n",
        "- The Royal Institution\n",
        "- Thunderf00t\n",
        "- Tibees\n",
        "- Two Minute Papers\n",
        "- Up and Atom\n",
        "- Veritasium\n",
        "- Vsauce2\n",
        "\n",
        "\n",
        "# **To be able to do Data Science you need three main components (knowledges) :**\n",
        "- Math and statistics\n",
        "- Computer science\n",
        "- Domain knowledge"
      ],
      "metadata": {
        "id": "39gF38MPGUdo"
      }
    },
    {
      "cell_type": "markdown",
      "source": [
        "# **2022-10-15**\n",
        "\n",
        "## **Оценки :**\n",
        "  - задачи в занятието\n",
        "  - **есе/научна разработка - тема (има технически изисквания) - краен срок 17.02.2023**\n",
        "\n",
        "## **White hat (facts) :**\n",
        "  - https://docs.google.com/document/d/1jQ_KX0pY5TXYFoTya-HCOXGYG7TgB36Bjdm0p7jECsI/edit#\n",
        "\n",
        "\n",
        "## **Gather.town** \n",
        "  - https://www.gather.town/\n",
        "  - онлайн комуникация, ако сме онлайн\n",
        "  - събота тук, в неделя там\n",
        "\n",
        "## **brainstorming, positive ideas, summary (10 rows), what is AI**\n",
        "- Ani, Agi, Asi\n",
        "\n",
        "## **Лекция/Презентация**\n",
        "\n",
        "- Karl Popper\n",
        "- Induction/deduction\n",
        "  - Аналитичен модел - винаги е валиден, но никога не може да се приложи практично\n",
        "  - Симулационен модел - работи в конкретни случай (ок за поточна линия за течен шоколад, но не е ок за поточна линия за паста за зъби)\n",
        "- Universality/Specialization\n",
        "- Ветрило на възможните **реализации**\n",
        "\n",
        "## **фундамент при системите за AI**\n",
        "- Теория на системите\n",
        "- Кибернетика\n",
        "\n",
        "## **Imitation/Deus Ex Machina**\n",
        "\n",
        "- ⏰ minimize entropy - минимизиране на неопределеността\n",
        "- Charles Babbage (Чарлз Бабидж) - първата сметачна машина\n",
        "- Ada Lovelace (Ада Лъвлейс) - първия програмист\n",
        "\n",
        "## **General Systems Theory**\n",
        "- cybernetics (Robert Wiener) - наука за управление (системи с обратна връзка)\n",
        "\n",
        "- https://ncase.me/loopy/\n",
        "- https://app.gather.town/invite?token=tREHcFUITW6_3A-KMBh3\n",
        "- bit.ly/gather_town1"
      ],
      "metadata": {
        "id": "Dv8YKjniWxWN"
      }
    },
    {
      "cell_type": "markdown",
      "source": [
        "# **2022-10-16**\n",
        "\n",
        "- видео записите от лекциите по дисциплината: https://www.youtube.com/playlist?list=PLX9ryRl9v7BCuW9Vv_oJWChVJtRD9HaBM \n",
        "- Igor Nikolic - Complex adaptive systems https://www.youtube.com/watch?v=jS0zj_dYeBE\n",
        "\n",
        "- решение в по-малко от един цикъл на изпълнение (управление в реално време). Например тримесечие (счетоводство), ако системата изработва решение за по-малко време от тримесечие и може да бъде въведено, тогава системата/управлението работи в реално време\n",
        "\n",
        "- redundency of information\n",
        "- Clod Shanon - logarithm equal 2 "
      ],
      "metadata": {
        "id": "cVu1k1OjWa-X"
      }
    },
    {
      "cell_type": "markdown",
      "source": [
        "## **Entropy (information systems)**"
      ],
      "metadata": {
        "id": "2iJsMhR7C_W_"
      }
    },
    {
      "cell_type": "code",
      "source": [
        "# Calculate the entropy of a distribution for given probability values.\n",
        "from scipy.stats import entropy\n",
        "\n",
        "'''\n",
        "    If only probabilities `pk` are given, the entropy is calculated as\n",
        "    ``S = -sum(pk * log(pk), axis=axis)``.\n",
        "'''\n",
        "\n",
        "entropy(pk=[0.25, 0.125, 0.125, 0, 0.5], base=2)"
      ],
      "metadata": {
        "colab": {
          "base_uri": "https://localhost:8080/"
        },
        "id": "EAvJrH_2q9cA",
        "outputId": "7820166c-cadf-48b1-cdbf-196d0f767650"
      },
      "execution_count": null,
      "outputs": [
        {
          "output_type": "execute_result",
          "data": {
            "text/plain": [
              "1.75"
            ]
          },
          "metadata": {},
          "execution_count": 3
        }
      ]
    },
    {
      "cell_type": "markdown",
      "source": [
        "- novelty ( 2 events before and after event ). Ще се получи разлика от 2те различни нива на етропията\n"
      ],
      "metadata": {
        "id": "Mx7L1sF1vZvR"
      }
    },
    {
      "cell_type": "markdown",
      "source": [
        "### **Задачи за оценка на наученото**"
      ],
      "metadata": {
        "id": "1U4FjqC0CEYr"
      }
    },
    {
      "cell_type": "code",
      "source": [
        "# задача1\n",
        "h0 = entropy(pk=[0.25, 0.125, 0.125, 0, 0.5], base=2)\n",
        "h1 = entropy(pk=[0, 0.25, 0.5, 0, 0.25], base=2)\n",
        "\n",
        "print(\"h0 ==\", h0)\n",
        "print(\"h1 ==\", h1)\n",
        "\n",
        "I = h0 - h1\n",
        "print(\"задача 1 отг : \", I) # неопределеноста е намалена с 0.25 бита\n",
        "print(100 * \"=\")\n",
        "# задача 2\n",
        "h0 = entropy(pk=[0.5, 0.5], base=2) # it will be either boy or girl\n",
        "h1 = entropy(pk=[1, 0], base=2)     # msg_1 = \"My wife gave birth to a girl\"\n",
        "\n",
        "print(\"h0 ==\", h0)\n",
        "print(\"h1 ==\", h1)\n",
        "\n",
        "I = h0 - h1\n",
        "print(\"задача 2 отг : \", I) # неопределеноста е намалена с 1 бит след получаване на новото съобщение\n",
        "print(100 * \"=\")\n",
        "\n",
        "# задача 3\n",
        "h0 = entropy(pk=[0.2, 0.2, 0.2, 0.2, 0.2], base=2)  # the chance giving right answer without any knowledge is 20%\n",
        "h1 = entropy(pk=[0.5, 0.5, 0, 0, 0], base=2)        # msg_2 = \"Of the 5 possible answers to question 20 of the test, I know for sure that the answer is either A or B\"\n",
        "print(\"h0 ==\", h0)\n",
        "print(\"h1 ==\", h1)\n",
        "\n",
        "I = h0 - h1\n",
        "print(\"задача 3 отг : \", I) # неопределеноста е намалена с 1.32 бита след получаване на новото съобщение\n",
        "print(100 * \"=\")"
      ],
      "metadata": {
        "colab": {
          "base_uri": "https://localhost:8080/"
        },
        "id": "SwLzQA88yogt",
        "outputId": "9fe49834-62d7-4cf9-befb-c5b5f405e0b1"
      },
      "execution_count": null,
      "outputs": [
        {
          "output_type": "stream",
          "name": "stdout",
          "text": [
            "h0 == 1.75\n",
            "h1 == 1.5\n",
            "задача 1 отг :  0.25\n",
            "====================================================================================================\n",
            "h0 == 1.0\n",
            "h1 == 0.0\n",
            "задача 2 отг :  1.0\n",
            "====================================================================================================\n",
            "h0 == 2.3219280948873626\n",
            "h1 == 1.0\n",
            "задача 3 отг :  1.3219280948873626\n",
            "====================================================================================================\n"
          ]
        }
      ]
    },
    {
      "cell_type": "markdown",
      "source": [
        "- linear vs non linear functions when to use "
      ],
      "metadata": {
        "id": "teo2nQXsLrHN"
      }
    },
    {
      "cell_type": "markdown",
      "source": [
        "Ban Nikola Kasabov - 2tornik seminar\n",
        "\n",
        "hardware and software neural networks\n",
        "- Neural Networks meme (multiplication of matrices) . The GPU/TPU is good at it\n",
        "- Andrew NG - data driven development (machine learning and earning)\n",
        "- NRDS / statistical decision theory\n",
        "- is better good or not (if yes -> normal matrix ELSE inverse matrix)\n"
      ],
      "metadata": {
        "id": "xws9RLPxPw62"
      }
    },
    {
      "cell_type": "markdown",
      "source": [
        "**ЗАДАЧИ ЗА ДРУГИЯ ПЪТ - Петък**\n",
        "\n",
        "- Loopy : https://basaga.org/basaga_files/loopy.htm\n",
        "- https://docs.google.com/forms/d/e/1FAIpQLSfYu27IMSsLbHwQD8cBKwbzWTjBq8fy74JWA3gzktvGDUibNA/viewform"
      ],
      "metadata": {
        "id": "qXxfCF0PA5ro"
      }
    },
    {
      "cell_type": "code",
      "source": [
        "# https://www.intel.com/content/dam/www/program/education/us/en/documents/the-journery-inside/digital/tji-digital-info-handout4.pdf\n",
        "# https://towardsdatascience.com/the-intuition-behind-shannons-entropy-e74820fe9800\n",
        "# http://bearcave.com/misl/misl_tech/wavelets/compression/shannon.html"
      ],
      "metadata": {
        "colab": {
          "base_uri": "https://localhost:8080/"
        },
        "id": "PkoE-28MzfnL",
        "outputId": "39011101-e363-4919-effe-eae259e11610"
      },
      "execution_count": null,
      "outputs": [
        {
          "output_type": "execute_result",
          "data": {
            "text/plain": [
              "224"
            ]
          },
          "metadata": {},
          "execution_count": 19
        }
      ]
    },
    {
      "cell_type": "markdown",
      "source": [
        "# **2022-10-22**\n",
        "\n",
        "- https://ncase.me/trust-bg/\n",
        "- Копиращия - „Постъпвай с другите както искаш те да постъпват с теб“\n",
        "- Игра с нулев резултат. Това е най-честата, за съжаление, представа - че за да спечелим ние, другият трябва да загуби, и обратно.\n",
        "\n",
        "- Игра с ненулев резултат. Когато полагаме усилието да намерим начин всички да печелят! (Или поне да не губят.) Без възможност да печелят всички доверието не може да еволюира.\n",
        "\n",
        "\n",
        "**Теория на игрите**\n",
        "\n",
        "https://towardsdatascience.com/game-theory-in-python-with-nashpy-cb5dceab262c\n",
        "\n",
        "**Bayes' theorem** \n",
        "- https://www.youtube.com/watch?v=pPTLK5hFGnQ\n",
        "- https://www.youtube.com/watch?v=yBn-eGrRHJU - calculate bayes' probability using decision trees\n",
        "- https://learning.eupati.eu/mod/book/view.php?id=362&chapterid=388\n",
        "- условна вероятност == conditional probability (event A under condition B) -> Ral Madrid to win when C.Ronaldo scores\n",
        "- вектор - поредица от чицла (колоната е вектор, редът също)\n",
        "\n",
        "**Оптимум на Парето**\n",
        "- нас ни интересува само границата на Парето. Там е оптимумът\n",
        "- https://www.sciencedirect.com/topics/engineering/pareto-optimality"
      ],
      "metadata": {
        "id": "d63RTBwobsns"
      }
    },
    {
      "cell_type": "markdown",
      "source": [
        "# **2022-10-23**\n",
        "\n",
        "**Fuzzy logic (Размит подход)**\n",
        "\n",
        "- триъгълно число. Прогноза с доверителни интервали. Примерно прогноза за икономиката с 95% вероятност да има отклонение от 2 стандартни девиации\n",
        "- при fuzzy logics границите се застъпват (например age variable)\n",
        "- може да се ползва при credit scoring\n",
        "- бисектриса (angle bisector (Ъглополовяща))\n",
        "- fuzzy matching може да се ползва при оправяне на дейтасетове (да речем едно име - Иван Иванов и Иван И. Иванов)\n",
        "\n",
        "**Algorithms**\n",
        "- https://stats.stackexchange.com/questions/363669/k-nearest-neighbor-supervised-or-unsupervised-machine-learning\n",
        "- https://towardsdatascience.com/arimax-with-fourier-series-1d92a976f45f\n",
        "- Harmonic decompositions (времеви редове) - FFT, HD\n",
        "  - fourier (синосуиди с различно отместване и дължина на вълната)\n",
        "- anti clusters (elements to be different but from the same group. Студенти в една група, но с различни умения (по-добър, добър, среден)\n",
        "- mean_shift https://en.wikipedia.org/wiki/Mean_shift"
      ],
      "metadata": {
        "id": "ODnN5y6Qflw8"
      }
    },
    {
      "cell_type": "markdown",
      "source": [
        "# Game theory task #1\n",
        "- http://www.gambit-project.org/ "
      ],
      "metadata": {
        "id": "soHOHnJ38vWJ"
      }
    },
    {
      "cell_type": "code",
      "source": [
        "!pip install nashpy\n",
        "\n",
        "import numpy as np\n",
        "import nashpy as nash\n",
        "\n",
        "'''\n",
        "Matrix\n",
        "  0     | 2    | 4     |6\n",
        "--------|------|-------|-----\n",
        "1|  7/0 | 5/10 | 3/12  | 1/6\n",
        "2| 12/0 | 8/8  | 4/8   | 0/0\n",
        "3| 15/0 | 9/6  | 3/4   | -3/-6\n",
        "4| 16/0 | 8/4  | 0/0   | -8/-12\n",
        "5| 15/0 | 5/2  | -5/-4 | -15/-18\n",
        "-----------------------------\n",
        "\n",
        "'''\n",
        "print(\"ok\")\n",
        "\n",
        "\n",
        "# Create the game with the payoff matrix\n",
        "A = np.array([[7, 5, 3, 1],\n",
        "              [12, 8, 4, 0],\n",
        "              [15, 9, 3, -3],\n",
        "              [16, 8, 0, -8],\n",
        "              [15, 5, -5, -15]\n",
        "              ]) # A is the row player (the values is each sub array represent the row values)\n",
        "B = np.array([[0,0,0,0,0],\n",
        "              [10,8,6,4,2],\n",
        "              [12,8,4,0,-4],\n",
        "              [6,0,-6,-12,-18],\n",
        "              ]\n",
        "             ) # B is the column player\n",
        "game1 = nash.Game(A,B)\n",
        "game1\n",
        "\n",
        "# Dominance method solution : 1/6 (стратегия 1 по редове и стратегия 6 по колони)"
      ],
      "metadata": {
        "colab": {
          "base_uri": "https://localhost:8080/"
        },
        "id": "JOPX3YMD8021",
        "outputId": "5cea22a2-3458-4640-b2c1-79a1b3ec2635"
      },
      "execution_count": 1,
      "outputs": [
        {
          "output_type": "stream",
          "name": "stdout",
          "text": [
            "Looking in indexes: https://pypi.org/simple, https://us-python.pkg.dev/colab-wheels/public/simple/\n",
            "Collecting nashpy\n",
            "  Downloading nashpy-0.0.22.tar.gz (11 kB)\n",
            "\u001b[33mWARNING: Discarding https://files.pythonhosted.org/packages/93/1c/9005c6a0a3a3b183b5b216cc02cef14bb080fd3ee8733a1006fbcd81fffc/nashpy-0.0.22.tar.gz#sha256=9378fd492f01163ac01a7384dd94f7ffa3ce40e31fe2a08844a2e34576b3d8db (from https://pypi.org/simple/nashpy/). Command errored out with exit status 1: python setup.py egg_info Check the logs for full command output.\u001b[0m\n",
            "  Downloading nashpy-0.0.21.tar.gz (11 kB)\n",
            "Requirement already satisfied: numpy>=1.12.1 in /usr/local/lib/python3.7/dist-packages (from nashpy) (1.21.6)\n",
            "Requirement already satisfied: scipy>=0.19.0 in /usr/local/lib/python3.7/dist-packages (from nashpy) (1.7.3)\n",
            "Building wheels for collected packages: nashpy\n",
            "  Building wheel for nashpy (setup.py) ... \u001b[?25l\u001b[?25hdone\n",
            "  Created wheel for nashpy: filename=nashpy-0.0.21-py3-none-any.whl size=15280 sha256=edc8578833ad8fbfc987dcb33cdcd28120db8bd607696a19f75cbf57498bfff9\n",
            "  Stored in directory: /root/.cache/pip/wheels/02/08/62/cf4fa931e0a317d180936b266169a57f4bb4eb801465bbe8a1\n",
            "Successfully built nashpy\n",
            "Installing collected packages: nashpy\n",
            "Successfully installed nashpy-0.0.21\n",
            "ok\n"
          ]
        },
        {
          "output_type": "execute_result",
          "data": {
            "text/plain": [
              "Bi matrix game with payoff matrices:\n",
              "\n",
              "Row player:\n",
              "[[  7   5   3   1]\n",
              " [ 12   8   4   0]\n",
              " [ 15   9   3  -3]\n",
              " [ 16   8   0  -8]\n",
              " [ 15   5  -5 -15]]\n",
              "\n",
              "Column player:\n",
              "[[  0   0   0   0   0]\n",
              " [ 10   8   6   4   2]\n",
              " [ 12   8   4   0  -4]\n",
              " [  6   0  -6 -12 -18]]"
            ]
          },
          "metadata": {},
          "execution_count": 1
        }
      ]
    },
    {
      "cell_type": "markdown",
      "source": [
        "### Reduction by domiantion (редукция по доминация)\n",
        "- https://math.libretexts.org/Bookshelves/Applied_Mathematics/Applied_Finite_Mathematics_(Sekhon_and_Bloom)/11%3A_Game_Theory/11.03%3A_Reduction_by_Dominance\n",
        "- https://www.youtube.com/watch?v=s7rvfZ5l0cY"
      ],
      "metadata": {
        "id": "qG5tjseBF-V4"
      }
    },
    {
      "cell_type": "code",
      "source": [],
      "metadata": {
        "id": "yIcTqOKjF9oV"
      },
      "execution_count": null,
      "outputs": []
    }
  ]
}